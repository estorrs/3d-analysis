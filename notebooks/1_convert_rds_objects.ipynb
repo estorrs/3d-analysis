{
 "cells": [
  {
   "cell_type": "code",
   "execution_count": 1,
   "id": "d4cc2d90",
   "metadata": {},
   "outputs": [
    {
     "name": "stderr",
     "output_type": "stream",
     "text": [
      "Loading required package: SeuratObject\n",
      "\n",
      "Loading required package: sp\n",
      "\n",
      "\n",
      "Attaching package: ‘SeuratObject’\n",
      "\n",
      "\n",
      "The following objects are masked from ‘package:base’:\n",
      "\n",
      "    intersect, t\n",
      "\n",
      "\n"
     ]
    }
   ],
   "source": [
    "library(Seurat)"
   ]
  },
  {
   "cell_type": "code",
   "execution_count": 20,
   "id": "da9f0d85",
   "metadata": {},
   "outputs": [],
   "source": [
    "library(Matrix)"
   ]
  },
  {
   "cell_type": "code",
   "execution_count": 3,
   "id": "0c5b5603",
   "metadata": {},
   "outputs": [
    {
     "data": {
      "text/plain": [
       "An object of class Seurat \n",
       "36601 features across 56111 samples within 1 assay \n",
       "Active assay: RNA (36601 features, 2000 variable features)\n",
       " 12 layers present: data, counts, scale.data.HT771Z1-S1H1A3Y1Nd1, scale.data.HT781Z1-S1H1A3Y1Nd1, scale.data.HT817Z1-S1H1A3Y1Nd1, scale.data.HT849Z1-S1H1Fc2Nd1, scale.data.HT898Z1-S1H1A3Nd1, scale.data.HT891Z1-S2H3A2Y1Nd1_1Z1_1Bmn1_1, scale.data.HT814Z1-S1A3Y1Nd1, scale.data.HT832Z1-S1H1A2Y1Nd1, scale.data.HT913Z1-S2H1A3Y1Nd1, scale.data\n",
       " 3 dimensional reductions calculated: pca, umap, harmony"
      ]
     },
     "metadata": {},
     "output_type": "display_data"
    }
   ],
   "source": [
    "obj = readRDS('../data//single-cell//integratedprostate.annotated.rds')\n",
    "obj"
   ]
  },
  {
   "cell_type": "code",
   "execution_count": null,
   "id": "9dabc731",
   "metadata": {},
   "outputs": [],
   "source": []
  },
  {
   "cell_type": "code",
   "execution_count": null,
   "id": "eabd150d",
   "metadata": {},
   "outputs": [],
   "source": []
  },
  {
   "cell_type": "code",
   "execution_count": null,
   "id": "9f0699d3",
   "metadata": {},
   "outputs": [],
   "source": []
  },
  {
   "cell_type": "code",
   "execution_count": 21,
   "id": "e93245a5",
   "metadata": {},
   "outputs": [
    {
     "data": {
      "text/plain": [
       "NULL"
      ]
     },
     "metadata": {},
     "output_type": "display_data"
    }
   ],
   "source": [
    "mat = obj@assays$RNA@layers$counts ## matrix\n",
    "writeMM(mat, \"../data//single-cell/prostate_counts.mtx\")"
   ]
  },
  {
   "cell_type": "code",
   "execution_count": 22,
   "id": "1986d22b",
   "metadata": {},
   "outputs": [],
   "source": [
    "df = obj@assays$RNA@features[, c('counts')] ## genes\n",
    "write.csv(df, \"../data//single-cell/gene_metadata.csv\", row.names = TRUE)"
   ]
  },
  {
   "cell_type": "code",
   "execution_count": 23,
   "id": "c7d150a4",
   "metadata": {},
   "outputs": [],
   "source": [
    "df = obj@meta.data[, c('orig.ident', 'dotcat', 'celltypes')] ## metadata\n",
    "write.csv(df, \"../data//single-cell/cell_metadata.csv\", row.names = TRUE)"
   ]
  },
  {
   "cell_type": "code",
   "execution_count": null,
   "id": "5f50d67f",
   "metadata": {},
   "outputs": [],
   "source": []
  }
 ],
 "metadata": {
  "kernelspec": {
   "display_name": "R",
   "language": "R",
   "name": "ir"
  },
  "language_info": {
   "codemirror_mode": "r",
   "file_extension": ".r",
   "mimetype": "text/x-r-source",
   "name": "R",
   "pygments_lexer": "r",
   "version": "4.4.3"
  }
 },
 "nbformat": 4,
 "nbformat_minor": 5
}
